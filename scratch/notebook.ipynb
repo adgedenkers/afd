{
 "cells": [
  {
   "cell_type": "code",
   "execution_count": 3,
   "metadata": {},
   "outputs": [
    {
     "name": "stdout",
     "output_type": "stream",
     "text": [
      "{'error': 'Failed to retrieve data, status code: 404'}\n"
     ]
    }
   ],
   "source": [
    "import requests\n",
    "\n",
    "def get_medication_data_by_ndc(ndc_number):\n",
    "    base_url = \"https://api.fda.gov/drug/ndc.json?api_key=nbdvtjQ9iHHEAS48KbepMqb6Wf0bH49jGv2IqFgp\"\n",
    "    query = f\"&search=product_ndc:\\\"{ndc_number}\\\"\"\n",
    "\n",
    "    #'https://api.fda.gov/drug/ndc.json?apikey=nbdvtjQ9iHHEAS48KbepMqb6Wf0bH49jGv2IqFgp&search=product_ndc:42858-0118-30'\n",
    "    #https://api.fda.gov/drug/ndc.json?search=product_ndc:62011-0243-1\n",
    "\n",
    "\n",
    "    url = base_url + query\n",
    "\n",
    "    response = requests.get(url)\n",
    "\n",
    "    if response.status_code == 200:\n",
    "        return response.json()\n",
    "    else:\n",
    "        return {\"error\": f\"Failed to retrieve data, status code: {response.status_code}\"}\n",
    "\n",
    "# Example usage\n",
    "ndc_number = \"42858-0118-30\"  # Replace with the actual NDC number\n",
    "ndc_number = \"62011-0243-1\"\n",
    "medication_data = get_medication_data_by_ndc(ndc_number)\n",
    "print(medication_data)\n"
   ]
  }
 ],
 "metadata": {
  "kernelspec": {
   "display_name": "Python 3",
   "language": "python",
   "name": "python3"
  },
  "language_info": {
   "codemirror_mode": {
    "name": "ipython",
    "version": 3
   },
   "file_extension": ".py",
   "mimetype": "text/x-python",
   "name": "python",
   "nbconvert_exporter": "python",
   "pygments_lexer": "ipython3",
   "version": "3.11.6"
  }
 },
 "nbformat": 4,
 "nbformat_minor": 2
}
