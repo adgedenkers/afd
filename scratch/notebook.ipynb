{
 "cells": [
  {
   "cell_type": "code",
   "execution_count": 9,
   "metadata": {},
   "outputs": [
    {
     "name": "stdout",
     "output_type": "stream",
     "text": [
      "Failed to retrieve data: 404\n"
     ]
    }
   ],
   "source": [
    "import requests\n",
    "\n",
    "api_key = 'nbdvtjQ9iHHEAS48KbepMqb6Wf0bH49jGv2IqFgp'\n",
    "endpoint = 'drug/label.json'  # Replace with the specific FDA API endpoint\n",
    "url = f'https://api.fda.gov/{endpoint}?api_key={api_key}&search=product_ndc:62011-0243-1'\n",
    "\n",
    "response = requests.get(url)\n",
    "\n",
    "if response.status_code == 200:\n",
    "    data = response.json()\n",
    "    print(data)\n",
    "else:\n",
    "    print(\"Failed to retrieve data:\", response.status_code)\n",
    "\n",
    "\n",
    "# def get_medication_data_by_ndc(ndc_number):\n",
    "#     base_url = \"https://api.fda.gov/drug/ndc.json?api_key=nbdvtjQ9iHHEAS48KbepMqb6Wf0bH49jGv2IqFgp\"\n",
    "#     query = f\"&search=product_ndc:\\\"{ndc_number}\\\"\"\n",
    "\n",
    "#     #'https://api.fda.gov/drug/ndc.json?apikey=nbdvtjQ9iHHEAS48KbepMqb6Wf0bH49jGv2IqFgp&search=product_ndc:00093-3212-01'\n",
    "#     #https://api.fda.gov/drug/ndc.json?search=product_ndc:62011-0243-1\n",
    "\n",
    "\n",
    "#     url = base_url + query\n",
    "\n",
    "#     response = requests.get(url)\n",
    "\n",
    "#     if response.status_code == 200:\n",
    "#         return response.json()\n",
    "#     else:\n",
    "#         return {\"error\": f\"Failed to retrieve datastatus code: {response.status_code}\"}\n",
    "\n",
    "# # Example usage\n",
    "# #ndc_number = \"42858-0118-30\"  # Replace with the actual NDC number\n",
    "\n",
    "# ndc_number = \"00093-3212-01\"\n",
    "# medication_data = get_medication_data_by_ndc(ndc_number)\n",
    "# print(medication_data)\n"
   ]
  },
  {
   "cell_type": "code",
   "execution_count": 4,
   "metadata": {},
   "outputs": [
    {
     "ename": "NameError",
     "evalue": "name 'omeprazole' is not defined",
     "output_type": "error",
     "traceback": [
      "\u001b[0;31m---------------------------------------------------------------------------\u001b[0m",
      "\u001b[0;31mNameError\u001b[0m                                 Traceback (most recent call last)",
      "Cell \u001b[0;32mIn[4], line 1\u001b[0m\n\u001b[0;32m----> 1\u001b[0m \u001b[43momeprazole\u001b[49m\n\u001b[1;32m      2\u001b[0m bupropion\n\u001b[1;32m      3\u001b[0m lisdexamfetamine\n",
      "\u001b[0;31mNameError\u001b[0m: name 'omeprazole' is not defined"
     ]
    }
   ],
   "source": [
    "omeprazole\n",
    "bupropion\n",
    "lisdexamfetamine\n",
    "venlafaxine\n",
    "tamsulosin\n",
    "clonazepam\n"
   ]
  },
  {
   "cell_type": "code",
   "execution_count": null,
   "metadata": {},
   "outputs": [],
   "source": [
    "Prilosec\n",
    "Wellbutrin\n",
    "Vyvanse\n",
    "Effexor\n",
    "Flomax\n",
    "Klonopin"
   ]
  }
 ],
 "metadata": {
  "kernelspec": {
   "display_name": "Python 3",
   "language": "python",
   "name": "python3"
  },
  "language_info": {
   "codemirror_mode": {
    "name": "ipython",
    "version": 3
   },
   "file_extension": ".py",
   "mimetype": "text/x-python",
   "name": "python",
   "nbconvert_exporter": "python",
   "pygments_lexer": "ipython3",
   "version": "3.11.6"
  }
 },
 "nbformat": 4,
 "nbformat_minor": 2
}
