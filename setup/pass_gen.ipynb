{
 "cells": [
  {
   "cell_type": "code",
   "execution_count": 1,
   "metadata": {},
   "outputs": [],
   "source": [
    "import random\n",
    "\n",
    "def generate_random_string(words, numbers):\n",
    "    # Extracting two characters from each word\n",
    "    word_substrings = [word[:2] for word in words]\n",
    "\n",
    "    # Selecting 5 random two-character strings from numbers list\n",
    "    number_substrings = random.sample(numbers, 5)\n",
    "\n",
    "    # Combining both lists\n",
    "    combined = word_substrings + number_substrings\n",
    "\n",
    "    # Shuffling the combined list for randomness\n",
    "    random.shuffle(combined)\n",
    "\n",
    "    # Concatenating all elements to form the final string\n",
    "    return ''.join(combined)"
   ]
  },
  {
   "cell_type": "code",
   "execution_count": 2,
   "metadata": {},
   "outputs": [],
   "source": [
    "words = [\n",
    "    \"denkers\",\n",
    "    \"rebecca\",\n",
    "    \"adriaan\",\n",
    "    \"fitzgerald\",\n",
    "    \"ryan\",\n",
    "    \"vanauken\",\n",
    "    \"francisxavier\",\n",
    "    \"helenaprudence\",\n",
    "    \"shapley\",\n",
    "    \"padgetbrook\",\n",
    "    \"oxford\",\n",
    "    \"cosen\",\n",
    "    \"chenango\"\n",
    "]\n",
    "numbers = [\"08\",\"19\",\"78\",\"11\",\"22\",\"77\",\"09\",\"08\",\"10\",\"10\",\"04\",\"03\",\"12\",\"19\"]"
   ]
  },
  {
   "cell_type": "code",
   "execution_count": 3,
   "metadata": {},
   "outputs": [
    {
     "name": "stdout",
     "output_type": "stream",
     "text": [
      "03adfichdecoheshoxre1010pava77ryfr19\n"
     ]
    }
   ],
   "source": [
    "random_string = generate_random_string(words, numbers)\n",
    "print(random_string)"
   ]
  },
  {
   "cell_type": "code",
   "execution_count": null,
   "metadata": {},
   "outputs": [],
   "source": [
    "\"VanFiry78ox08!\""
   ]
  }
 ],
 "metadata": {
  "kernelspec": {
   "display_name": "Python 3",
   "language": "python",
   "name": "python3"
  },
  "language_info": {
   "codemirror_mode": {
    "name": "ipython",
    "version": 3
   },
   "file_extension": ".py",
   "mimetype": "text/x-python",
   "name": "python",
   "nbconvert_exporter": "python",
   "pygments_lexer": "ipython3",
   "version": "3.11.6"
  }
 },
 "nbformat": 4,
 "nbformat_minor": 2
}
